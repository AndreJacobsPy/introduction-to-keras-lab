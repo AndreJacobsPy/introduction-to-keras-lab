{
 "cells": [
  {
   "cell_type": "markdown",
   "metadata": {},
   "source": [
    "# Keras - Lab\n",
    "\n",
    "## Introduction\n",
    "\n",
    "In this lab you'll once again build a neural network, but this time you will be using Keras to do a lot of the heavy lifting.\n",
    "\n",
    "\n",
    "## Objectives\n",
    "\n",
    "You will be able to:\n",
    "\n",
    "- Build a neural network using Keras \n",
    "- Evaluate performance of a neural network using Keras "
   ]
  },
  {
   "cell_type": "markdown",
   "metadata": {},
   "source": [
    "## Required Packages\n",
    "\n",
    "We'll start by importing all of the required packages and classes."
   ]
  },
  {
   "cell_type": "code",
   "metadata": {
    "ExecuteTime": {
     "end_time": "2024-09-09T18:14:35.804663Z",
     "start_time": "2024-09-09T18:14:35.744215Z"
    }
   },
   "source": [
    "import matplotlib.pyplot as plt\n",
    "import pandas as pd\n",
    "import numpy as np\n",
    "import random\n",
    "from sklearn.model_selection import train_test_split\n",
    "from keras.utils import to_categorical\n",
    "from sklearn import preprocessing\n",
    "from tensorflow.keras.preprocessing.text import Tokenizer\n",
    "from keras import models\n",
    "from keras import layers\n",
    "from keras import optimizers"
   ],
   "outputs": [],
   "execution_count": 6
  },
  {
   "cell_type": "markdown",
   "metadata": {},
   "source": [
    "## Load the data\n",
    "\n",
    "In this lab you will be classifying bank complaints available in the `'Bank_complaints.csv'` file. "
   ]
  },
  {
   "cell_type": "code",
   "metadata": {
    "ExecuteTime": {
     "end_time": "2024-09-09T18:16:15.230682Z",
     "start_time": "2024-09-09T18:16:14.140447Z"
    }
   },
   "source": [
    "# Import data\n",
    "df: pd.DataFrame = pd.read_csv(\"Bank_complaints.csv\")\n",
    "\n",
    "# Inspect data\n",
    "print(df.info())\n",
    "df.head()"
   ],
   "outputs": [
    {
     "name": "stdout",
     "output_type": "stream",
     "text": [
      "<class 'pandas.core.frame.DataFrame'>\n",
      "RangeIndex: 60000 entries, 0 to 59999\n",
      "Data columns (total 2 columns):\n",
      " #   Column                        Non-Null Count  Dtype \n",
      "---  ------                        --------------  ----- \n",
      " 0   Product                       60000 non-null  object\n",
      " 1   Consumer complaint narrative  60000 non-null  object\n",
      "dtypes: object(2)\n",
      "memory usage: 937.6+ KB\n",
      "None\n"
     ]
    },
    {
     "data": {
      "text/plain": [
       "        Product                       Consumer complaint narrative\n",
       "0  Student loan  In XX/XX/XXXX I filled out the Fedlaon applica...\n",
       "1  Student loan  I am being contacted by a debt collector for p...\n",
       "2  Student loan  I cosigned XXXX student loans at SallieMae for...\n",
       "3  Student loan  Navient has sytematically and illegally failed...\n",
       "4  Student loan  My wife became eligible for XXXX Loan Forgiven..."
      ],
      "text/html": [
       "<div>\n",
       "<style scoped>\n",
       "    .dataframe tbody tr th:only-of-type {\n",
       "        vertical-align: middle;\n",
       "    }\n",
       "\n",
       "    .dataframe tbody tr th {\n",
       "        vertical-align: top;\n",
       "    }\n",
       "\n",
       "    .dataframe thead th {\n",
       "        text-align: right;\n",
       "    }\n",
       "</style>\n",
       "<table border=\"1\" class=\"dataframe\">\n",
       "  <thead>\n",
       "    <tr style=\"text-align: right;\">\n",
       "      <th></th>\n",
       "      <th>Product</th>\n",
       "      <th>Consumer complaint narrative</th>\n",
       "    </tr>\n",
       "  </thead>\n",
       "  <tbody>\n",
       "    <tr>\n",
       "      <th>0</th>\n",
       "      <td>Student loan</td>\n",
       "      <td>In XX/XX/XXXX I filled out the Fedlaon applica...</td>\n",
       "    </tr>\n",
       "    <tr>\n",
       "      <th>1</th>\n",
       "      <td>Student loan</td>\n",
       "      <td>I am being contacted by a debt collector for p...</td>\n",
       "    </tr>\n",
       "    <tr>\n",
       "      <th>2</th>\n",
       "      <td>Student loan</td>\n",
       "      <td>I cosigned XXXX student loans at SallieMae for...</td>\n",
       "    </tr>\n",
       "    <tr>\n",
       "      <th>3</th>\n",
       "      <td>Student loan</td>\n",
       "      <td>Navient has sytematically and illegally failed...</td>\n",
       "    </tr>\n",
       "    <tr>\n",
       "      <th>4</th>\n",
       "      <td>Student loan</td>\n",
       "      <td>My wife became eligible for XXXX Loan Forgiven...</td>\n",
       "    </tr>\n",
       "  </tbody>\n",
       "</table>\n",
       "</div>"
      ]
     },
     "execution_count": 9,
     "metadata": {},
     "output_type": "execute_result"
    }
   ],
   "execution_count": 9
  },
  {
   "cell_type": "markdown",
   "metadata": {},
   "source": [
    "As mentioned earlier, your task is to categorize banking complaints into various predefined categories. Preview what these categories are and what percent of the complaints each accounts for. "
   ]
  },
  {
   "cell_type": "code",
   "metadata": {
    "ExecuteTime": {
     "end_time": "2024-09-09T18:16:42.957744Z",
     "start_time": "2024-09-09T18:16:42.933745Z"
    }
   },
   "source": [
    "# Your code here\n",
    "df[\"Product\"].value_counts(normalize=True)"
   ],
   "outputs": [
    {
     "data": {
      "text/plain": [
       "Product\n",
       "Student loan                   0.190067\n",
       "Credit card                    0.159000\n",
       "Consumer Loan                  0.157900\n",
       "Mortgage                       0.138867\n",
       "Bank account or service        0.138483\n",
       "Credit reporting               0.114400\n",
       "Checking or savings account    0.101283\n",
       "Name: proportion, dtype: float64"
      ]
     },
     "execution_count": 10,
     "metadata": {},
     "output_type": "execute_result"
    }
   ],
   "execution_count": 10
  },
  {
   "cell_type": "markdown",
   "metadata": {},
   "source": [
    "## Preprocessing\n",
    "\n",
    "Before we build our neural network, we need to do several preprocessing steps. First, we will create word vector counts (a bag of words type representation) of our complaints text. Next, we will change the category labels to integers. Finally, we will perform our usual train-test split before building and training our neural network using Keras. With that, let's start munging our data! \n",
    "\n",
    "## One-hot encoding of the complaints\n",
    "\n",
    "Our first step again is to transform our textual data into a numerical representation. As we saw in some of our previous lessons on NLP, there are many ways to do this. Here, we'll use the `Tokenizer()` class from the `preprocessing.text` sub-module of the Keras package.   \n",
    "\n",
    "As with our previous work using NLTK, this will transform our text complaints into word vectors. (Note that the method of creating a vector is different from our previous work with NLTK; as you'll see, word order will be preserved as opposed to a bag of words representation). In the below code, we'll only keep the 2,000 most common words and use one-hot encoding. \n",
    "\n"
   ]
  },
  {
   "cell_type": "code",
   "metadata": {
    "ExecuteTime": {
     "end_time": "2024-09-09T18:17:27.423048Z",
     "start_time": "2024-09-09T18:17:27.399584Z"
    }
   },
   "source": [
    "# As a quick preliminary, briefly review the docstring for keras.preprocessing.text.Tokenizer\n",
    "?Tokenizer"
   ],
   "outputs": [],
   "execution_count": 13
  },
  {
   "cell_type": "code",
   "metadata": {
    "ExecuteTime": {
     "end_time": "2024-09-09T18:20:24.492601Z",
     "start_time": "2024-09-09T18:19:53.187246Z"
    }
   },
   "source": [
    "# ⏰ This cell may take about thirty seconds to run\n",
    "\n",
    "# Raw text complaints\n",
    "complaints = df['Consumer complaint narrative'] \n",
    "\n",
    "# Initialize a tokenizer \n",
    "tokenizer = Tokenizer(num_words=2000) \n",
    "\n",
    "# Fit it to the complaints\n",
    "tokenizer.fit_on_texts(complaints) \n",
    "\n",
    "# Generate sequences\n",
    "sequences = tokenizer.texts_to_sequences(complaints) \n",
    "print('sequences type:', type(sequences))\n",
    "\n",
    "# Similar to sequences, but returns a numpy array\n",
    "one_hot_results= tokenizer.texts_to_matrix(complaints, mode='binary') \n",
    "print('one_hot_results type:', type(one_hot_results))\n",
    "\n",
    "# Useful if we wish to decode (more explanation below)\n",
    "word_index = tokenizer.word_index \n",
    "\n",
    "# Tokens are the number of unique words across the corpus\n",
    "print('Found %s unique tokens.' % len(word_index)) \n",
    "\n",
    "# Our coded data\n",
    "print('Dimensions of our coded results:', np.shape(one_hot_results)) "
   ],
   "outputs": [
    {
     "name": "stdout",
     "output_type": "stream",
     "text": [
      "sequences type: <class 'list'>\n",
      "one_hot_results type: <class 'numpy.ndarray'>\n",
      "Found 50334 unique tokens.\n",
      "Dimensions of our coded results: (60000, 2000)\n"
     ]
    }
   ],
   "execution_count": 15
  },
  {
   "cell_type": "markdown",
   "metadata": {},
   "source": [
    "## Decoding Word Vectors \n",
    "\n",
    "As a note, you can also decode these vectorized representations of the reviews. The `word_index` variable, defined above, stores the mapping from the label number to the actual word. Somewhat tediously, we can turn this dictionary inside out and map it back to our word vectors, giving us roughly the original complaint back. (As you'll see, the text won't be identical as we limited ourselves to top 2000 words.)\n",
    "\n",
    "## Python Review / Mini Challenge\n",
    "\n",
    "While a bit tangential to our main topic of interest, we need to reverse our current dictionary `word_index` which maps words from our corpus to integers. In decoding our `one_hot_results`, we will need to create a dictionary of these integers to the original words. Below, take the `word_index` dictionary object and change the orientation so that the values are keys and the keys values. In other words, you are transforming something of the form {A:1, B:2, C:3} to {1:A, 2:B, 3:C}. "
   ]
  },
  {
   "cell_type": "code",
   "metadata": {
    "ExecuteTime": {
     "end_time": "2024-09-09T18:22:15.394343Z",
     "start_time": "2024-09-09T18:22:15.372685Z"
    }
   },
   "source": [
    "# Your code here\n",
    "reverse_index = dict(zip(word_index.values(), word_index.keys()))"
   ],
   "outputs": [],
   "execution_count": 17
  },
  {
   "cell_type": "markdown",
   "metadata": {},
   "source": [
    "## Back to Decoding Our Word Vectors..."
   ]
  },
  {
   "cell_type": "code",
   "metadata": {
    "ExecuteTime": {
     "end_time": "2024-09-09T18:22:55.885896Z",
     "start_time": "2024-09-09T18:22:55.870246Z"
    }
   },
   "source": [
    "comment_idx_to_preview = 19\n",
    "print('Original complaint text:')\n",
    "print(complaints[comment_idx_to_preview])\n",
    "print('\\n\\n')\n",
    "\n",
    "# The reverse_index cell block above must be complete in order for this cell block to successively execute \n",
    "decoded_review = ' '.join([reverse_index.get(i) for i in sequences[comment_idx_to_preview]])\n",
    "print('Decoded review from Tokenizer:')\n",
    "print(decoded_review)"
   ],
   "outputs": [
    {
     "name": "stdout",
     "output_type": "stream",
     "text": [
      "Original complaint text:\n",
      "I have already filed several complaints about AES/PHEAA. I was notified by a XXXX XXXX let @ XXXX, who pretended to be from your office, he said he was from CFPB. I found out this morning he is n't from your office, but is actually works at XXXX. \r\n",
      "\r\n",
      "This has wasted weeks of my time. They AES/PHEAA confirmed and admitted ( see attached transcript of XXXX, conversation at XXXX ( XXXX ) with XXXX that proves they verified the loans are not mine ) the student loans they had XXXX, and collected on, and reported negate credit reporting in my name are in fact, not mine. \r\n",
      "They conclued their investigation on XXXX admitting they made a mistake and have my name on soneone elses loans. I these XXXX loans total {$10000.00}, original amount. My XXXX loans I got was total {$3500.00}. We proved by providing AES/PHEAA, this with my original promissary notes I located recently, the XXXX of my college provided AES/PHEAA with their original shoeinf amounts of my XXXX loans which show different dates and amounts, the dates and amounts are not even close to matching these loans they have in my name, The original lender, XXXX XXXX Bank notifying AES/PHEAA, they never issued me a student loan, and original Loan Guarantor, XXXX, notifying AES/PHEAA, they never were guarantor of my loans. \r\n",
      "\r\n",
      "XXXX straight forward. But today, this person, XXXX XXXX, told me they know these loans are not mine, and they refuse to remove my name off these XXXX loan 's and correct their mistake, essentially forcing me to pay these loans off, bucause in XXXX they sold the loans to XXXX loans. \r\n",
      "\r\n",
      "This is absurd, first protruding to be this office, and then refusing to correct their mistake. \r\n",
      "\r\n",
      "Please for the love of XXXX will soneone from your office call me at XXXX, today. I am a XXXX vet and they are knowingly discriminating against me. \r\n",
      "Pretending to be you.\n",
      "\n",
      "\n",
      "\n",
      "Decoded review from Tokenizer:\n",
      " to be your the of xxxx will from your office call me at xxxx today i am a xxxx and they are against me  to remove my name off these xxxx loan 's and correct their mistake essentially me to pay these loans off in xxxx they sold the loans to xxxx loans  provided aes with their original amounts of my xxxx loans which show different dates and amounts the dates and amounts are not even close to these loans they have in my name the original lender xxxx xxxx bank notifying aes they never issued me a student loan and original loan xxxx notifying aes they never were of my loans \n"
     ]
    }
   ],
   "execution_count": 18
  },
  {
   "cell_type": "markdown",
   "metadata": {},
   "source": [
    "## Convert the Products to Numerical Categories\n",
    "\n",
    "On to step two of our preprocessing: converting our descriptive categories into integers."
   ]
  },
  {
   "cell_type": "code",
   "metadata": {
    "ExecuteTime": {
     "end_time": "2024-09-09T18:23:33.765912Z",
     "start_time": "2024-09-09T18:23:33.728225Z"
    }
   },
   "source": [
    "product = df['Product']\n",
    "\n",
    "# Initialize\n",
    "le = preprocessing.LabelEncoder() \n",
    "le.fit(product)\n",
    "print('Original class labels:')\n",
    "print(list(le.classes_))\n",
    "print('\\n')\n",
    "product_cat = le.transform(product)  \n",
    "\n",
    "# If you wish to retrieve the original descriptive labels post production\n",
    "# list(le.inverse_transform([0, 1, 3, 3, 0, 6, 4])) \n",
    "\n",
    "print('New product labels:')\n",
    "print(product_cat)\n",
    "print('\\n')\n",
    "\n",
    "# Each row will be all zeros except for the category for that observation \n",
    "print('One hot labels; 7 binary columns, one for each of the categories.') \n",
    "product_onehot = to_categorical(product_cat)\n",
    "print(product_onehot)\n",
    "print('\\n')\n",
    "\n",
    "print('One hot labels shape:')\n",
    "print(np.shape(product_onehot))"
   ],
   "outputs": [
    {
     "name": "stdout",
     "output_type": "stream",
     "text": [
      "Original class labels:\n",
      "['Bank account or service', 'Checking or savings account', 'Consumer Loan', 'Credit card', 'Credit reporting', 'Mortgage', 'Student loan']\n",
      "\n",
      "\n",
      "New product labels:\n",
      "[6 6 6 ... 4 4 4]\n",
      "\n",
      "\n",
      "One hot labels; 7 binary columns, one for each of the categories.\n",
      "[[0. 0. 0. ... 0. 0. 1.]\n",
      " [0. 0. 0. ... 0. 0. 1.]\n",
      " [0. 0. 0. ... 0. 0. 1.]\n",
      " ...\n",
      " [0. 0. 0. ... 1. 0. 0.]\n",
      " [0. 0. 0. ... 1. 0. 0.]\n",
      " [0. 0. 0. ... 1. 0. 0.]]\n",
      "\n",
      "\n",
      "One hot labels shape:\n",
      "(60000, 7)\n"
     ]
    }
   ],
   "execution_count": 19
  },
  {
   "cell_type": "markdown",
   "metadata": {},
   "source": [
    "## Train-test split\n",
    "\n",
    "Now for our final preprocessing step: the usual train-test split. "
   ]
  },
  {
   "cell_type": "code",
   "metadata": {
    "ExecuteTime": {
     "end_time": "2024-09-09T18:24:12.862504Z",
     "start_time": "2024-09-09T18:24:12.114774Z"
    }
   },
   "source": [
    "random.seed(123)\n",
    "test_index = random.sample(range(1,10000), 1500)\n",
    "\n",
    "test = one_hot_results[test_index]\n",
    "train = np.delete(one_hot_results, test_index, 0)\n",
    "\n",
    "label_test = product_onehot[test_index]\n",
    "label_train = np.delete(product_onehot, test_index, 0)\n",
    "\n",
    "print('Test label shape:', np.shape(label_test))\n",
    "print('Train label shape:', np.shape(label_train))\n",
    "print('Test shape:', np.shape(test))\n",
    "print('Train shape:', np.shape(train))"
   ],
   "outputs": [
    {
     "name": "stdout",
     "output_type": "stream",
     "text": [
      "Test label shape: (1500, 7)\n",
      "Train label shape: (58500, 7)\n",
      "Test shape: (1500, 2000)\n",
      "Train shape: (58500, 2000)\n"
     ]
    }
   ],
   "execution_count": 20
  },
  {
   "cell_type": "markdown",
   "metadata": {},
   "source": [
    "## Building the network\n",
    "\n",
    "Let's build a fully connected (Dense) layer network with relu activation in Keras. You can do this using: `Dense(16, activation='relu')`. \n",
    "\n",
    "In this example, use two hidden layers with 50 units in the first layer and 25 in the second, both with a `'relu'` activation function. Because we are dealing with a multiclass problem (classifying the complaints into 7 categories), we use a use a `'softmax'` classifier in order to output 7 class probabilities per case.  "
   ]
  },
  {
   "cell_type": "code",
   "metadata": {
    "ExecuteTime": {
     "end_time": "2024-09-09T18:33:10.725461Z",
     "start_time": "2024-09-09T18:33:10.691078Z"
    }
   },
   "source": [
    "# Initialize a sequential model\n",
    "model = models.Sequential()\n",
    "\n",
    "# Two layers with relu activation\n",
    "model.add(layers.Input(shape=(2000,)))\n",
    "model.add(layers.Dense(50, activation=\"relu\"))\n",
    "model.add(layers.Dense(25, activation=\"relu\"))\n",
    "\n",
    "# One layer with softmax activation \n",
    "model.add(layers.Dense(7, activation=\"softmax\"))"
   ],
   "outputs": [],
   "execution_count": 32
  },
  {
   "cell_type": "markdown",
   "metadata": {},
   "source": [
    "## Compiling the model\n",
    "\n",
    "Now, compile the model! This time, use `'categorical_crossentropy'` as the loss function and stochastic gradient descent, `'SGD'` as the optimizer. As in the previous lesson, include the accuracy as a metric."
   ]
  },
  {
   "cell_type": "code",
   "metadata": {
    "ExecuteTime": {
     "end_time": "2024-09-09T18:33:14.483958Z",
     "start_time": "2024-09-09T18:33:14.468334Z"
    }
   },
   "source": [
    "# Compile the model\n",
    "model.compile(\n",
    "    optimizer=\"SGD\",\n",
    "    loss=\"categorical_crossentropy\",\n",
    "    metrics=[\"accuracy\"]\n",
    ")"
   ],
   "outputs": [],
   "execution_count": 33
  },
  {
   "cell_type": "markdown",
   "metadata": {},
   "source": [
    "## Training the model\n",
    "\n",
    "In the compiler, you'll be passing the optimizer (SGD = stochastic gradient descent), loss function, and metrics. Train the model for 120 epochs in mini-batches of 256 samples.\n",
    "\n",
    "_Note:_ ⏰ _Your code may take about one to two minutes to run._"
   ]
  },
  {
   "cell_type": "code",
   "metadata": {
    "ExecuteTime": {
     "end_time": "2024-09-09T18:34:34.424258Z",
     "start_time": "2024-09-09T18:33:15.463354Z"
    }
   },
   "source": [
    "# Train the model \n",
    "history = model.fit(\n",
    "    train,\n",
    "    label_train,\n",
    "    epochs=120,\n",
    "    batch_size=256,\n",
    "    validation_data=(test, label_test)\n",
    ")"
   ],
   "outputs": [
    {
     "name": "stdout",
     "output_type": "stream",
     "text": [
      "Epoch 1/120\n",
      "\u001B[1m229/229\u001B[0m \u001B[32m━━━━━━━━━━━━━━━━━━━━\u001B[0m\u001B[37m\u001B[0m \u001B[1m1s\u001B[0m 3ms/step - accuracy: 0.1883 - loss: 1.9250 - val_accuracy: 0.4600 - val_loss: 1.7147\n",
      "Epoch 2/120\n",
      "\u001B[1m229/229\u001B[0m \u001B[32m━━━━━━━━━━━━━━━━━━━━\u001B[0m\u001B[37m\u001B[0m \u001B[1m1s\u001B[0m 2ms/step - accuracy: 0.4619 - loss: 1.6497 - val_accuracy: 0.8113 - val_loss: 1.0419\n",
      "Epoch 3/120\n",
      "\u001B[1m229/229\u001B[0m \u001B[32m━━━━━━━━━━━━━━━━━━━━\u001B[0m\u001B[37m\u001B[0m \u001B[1m1s\u001B[0m 2ms/step - accuracy: 0.6358 - loss: 1.1714 - val_accuracy: 0.8433 - val_loss: 0.6639\n",
      "Epoch 4/120\n",
      "\u001B[1m229/229\u001B[0m \u001B[32m━━━━━━━━━━━━━━━━━━━━\u001B[0m\u001B[37m\u001B[0m \u001B[1m1s\u001B[0m 3ms/step - accuracy: 0.6915 - loss: 0.9128 - val_accuracy: 0.8667 - val_loss: 0.4919\n",
      "Epoch 5/120\n",
      "\u001B[1m229/229\u001B[0m \u001B[32m━━━━━━━━━━━━━━━━━━━━\u001B[0m\u001B[37m\u001B[0m \u001B[1m1s\u001B[0m 2ms/step - accuracy: 0.7205 - loss: 0.7901 - val_accuracy: 0.8787 - val_loss: 0.4147\n",
      "Epoch 6/120\n",
      "\u001B[1m229/229\u001B[0m \u001B[32m━━━━━━━━━━━━━━━━━━━━\u001B[0m\u001B[37m\u001B[0m \u001B[1m1s\u001B[0m 2ms/step - accuracy: 0.7378 - loss: 0.7239 - val_accuracy: 0.8800 - val_loss: 0.3857\n",
      "Epoch 7/120\n",
      "\u001B[1m229/229\u001B[0m \u001B[32m━━━━━━━━━━━━━━━━━━━━\u001B[0m\u001B[37m\u001B[0m \u001B[1m1s\u001B[0m 3ms/step - accuracy: 0.7499 - loss: 0.6847 - val_accuracy: 0.8813 - val_loss: 0.3673\n",
      "Epoch 8/120\n",
      "\u001B[1m229/229\u001B[0m \u001B[32m━━━━━━━━━━━━━━━━━━━━\u001B[0m\u001B[37m\u001B[0m \u001B[1m1s\u001B[0m 2ms/step - accuracy: 0.7560 - loss: 0.6533 - val_accuracy: 0.8920 - val_loss: 0.3354\n",
      "Epoch 9/120\n",
      "\u001B[1m229/229\u001B[0m \u001B[32m━━━━━━━━━━━━━━━━━━━━\u001B[0m\u001B[37m\u001B[0m \u001B[1m1s\u001B[0m 2ms/step - accuracy: 0.7649 - loss: 0.6304 - val_accuracy: 0.8933 - val_loss: 0.3233\n",
      "Epoch 10/120\n",
      "\u001B[1m229/229\u001B[0m \u001B[32m━━━━━━━━━━━━━━━━━━━━\u001B[0m\u001B[37m\u001B[0m \u001B[1m1s\u001B[0m 3ms/step - accuracy: 0.7718 - loss: 0.6144 - val_accuracy: 0.8873 - val_loss: 0.3296\n",
      "Epoch 11/120\n",
      "\u001B[1m229/229\u001B[0m \u001B[32m━━━━━━━━━━━━━━━━━━━━\u001B[0m\u001B[37m\u001B[0m \u001B[1m1s\u001B[0m 2ms/step - accuracy: 0.7751 - loss: 0.5995 - val_accuracy: 0.8960 - val_loss: 0.3030\n",
      "Epoch 12/120\n",
      "\u001B[1m229/229\u001B[0m \u001B[32m━━━━━━━━━━━━━━━━━━━━\u001B[0m\u001B[37m\u001B[0m \u001B[1m1s\u001B[0m 3ms/step - accuracy: 0.7852 - loss: 0.5764 - val_accuracy: 0.9007 - val_loss: 0.2874\n",
      "Epoch 13/120\n",
      "\u001B[1m229/229\u001B[0m \u001B[32m━━━━━━━━━━━━━━━━━━━━\u001B[0m\u001B[37m\u001B[0m \u001B[1m1s\u001B[0m 4ms/step - accuracy: 0.7883 - loss: 0.5673 - val_accuracy: 0.8980 - val_loss: 0.2948\n",
      "Epoch 14/120\n",
      "\u001B[1m229/229\u001B[0m \u001B[32m━━━━━━━━━━━━━━━━━━━━\u001B[0m\u001B[37m\u001B[0m \u001B[1m1s\u001B[0m 4ms/step - accuracy: 0.7916 - loss: 0.5630 - val_accuracy: 0.9073 - val_loss: 0.2781\n",
      "Epoch 15/120\n",
      "\u001B[1m229/229\u001B[0m \u001B[32m━━━━━━━━━━━━━━━━━━━━\u001B[0m\u001B[37m\u001B[0m \u001B[1m1s\u001B[0m 4ms/step - accuracy: 0.7952 - loss: 0.5519 - val_accuracy: 0.9047 - val_loss: 0.2814\n",
      "Epoch 16/120\n",
      "\u001B[1m229/229\u001B[0m \u001B[32m━━━━━━━━━━━━━━━━━━━━\u001B[0m\u001B[37m\u001B[0m \u001B[1m1s\u001B[0m 3ms/step - accuracy: 0.8010 - loss: 0.5382 - val_accuracy: 0.9127 - val_loss: 0.2599\n",
      "Epoch 17/120\n",
      "\u001B[1m229/229\u001B[0m \u001B[32m━━━━━━━━━━━━━━━━━━━━\u001B[0m\u001B[37m\u001B[0m \u001B[1m1s\u001B[0m 3ms/step - accuracy: 0.8063 - loss: 0.5302 - val_accuracy: 0.8993 - val_loss: 0.2893\n",
      "Epoch 18/120\n",
      "\u001B[1m229/229\u001B[0m \u001B[32m━━━━━━━━━━━━━━━━━━━━\u001B[0m\u001B[37m\u001B[0m \u001B[1m1s\u001B[0m 3ms/step - accuracy: 0.8069 - loss: 0.5235 - val_accuracy: 0.9180 - val_loss: 0.2521\n",
      "Epoch 19/120\n",
      "\u001B[1m229/229\u001B[0m \u001B[32m━━━━━━━━━━━━━━━━━━━━\u001B[0m\u001B[37m\u001B[0m \u001B[1m1s\u001B[0m 3ms/step - accuracy: 0.8095 - loss: 0.5179 - val_accuracy: 0.9133 - val_loss: 0.2584\n",
      "Epoch 20/120\n",
      "\u001B[1m229/229\u001B[0m \u001B[32m━━━━━━━━━━━━━━━━━━━━\u001B[0m\u001B[37m\u001B[0m \u001B[1m1s\u001B[0m 3ms/step - accuracy: 0.8110 - loss: 0.5165 - val_accuracy: 0.9167 - val_loss: 0.2541\n",
      "Epoch 21/120\n",
      "\u001B[1m229/229\u001B[0m \u001B[32m━━━━━━━━━━━━━━━━━━━━\u001B[0m\u001B[37m\u001B[0m \u001B[1m1s\u001B[0m 2ms/step - accuracy: 0.8171 - loss: 0.5051 - val_accuracy: 0.9093 - val_loss: 0.2739\n",
      "Epoch 22/120\n",
      "\u001B[1m229/229\u001B[0m \u001B[32m━━━━━━━━━━━━━━━━━━━━\u001B[0m\u001B[37m\u001B[0m \u001B[1m1s\u001B[0m 3ms/step - accuracy: 0.8200 - loss: 0.4970 - val_accuracy: 0.9160 - val_loss: 0.2490\n",
      "Epoch 23/120\n",
      "\u001B[1m229/229\u001B[0m \u001B[32m━━━━━━━━━━━━━━━━━━━━\u001B[0m\u001B[37m\u001B[0m \u001B[1m1s\u001B[0m 3ms/step - accuracy: 0.8229 - loss: 0.4890 - val_accuracy: 0.9187 - val_loss: 0.2476\n",
      "Epoch 24/120\n",
      "\u001B[1m229/229\u001B[0m \u001B[32m━━━━━━━━━━━━━━━━━━━━\u001B[0m\u001B[37m\u001B[0m \u001B[1m1s\u001B[0m 3ms/step - accuracy: 0.8260 - loss: 0.4857 - val_accuracy: 0.9180 - val_loss: 0.2481\n",
      "Epoch 25/120\n",
      "\u001B[1m229/229\u001B[0m \u001B[32m━━━━━━━━━━━━━━━━━━━━\u001B[0m\u001B[37m\u001B[0m \u001B[1m1s\u001B[0m 3ms/step - accuracy: 0.8266 - loss: 0.4799 - val_accuracy: 0.9080 - val_loss: 0.2669\n",
      "Epoch 26/120\n",
      "\u001B[1m229/229\u001B[0m \u001B[32m━━━━━━━━━━━━━━━━━━━━\u001B[0m\u001B[37m\u001B[0m \u001B[1m1s\u001B[0m 3ms/step - accuracy: 0.8249 - loss: 0.4827 - val_accuracy: 0.9213 - val_loss: 0.2365\n",
      "Epoch 27/120\n",
      "\u001B[1m229/229\u001B[0m \u001B[32m━━━━━━━━━━━━━━━━━━━━\u001B[0m\u001B[37m\u001B[0m \u001B[1m1s\u001B[0m 3ms/step - accuracy: 0.8279 - loss: 0.4751 - val_accuracy: 0.9153 - val_loss: 0.2538\n",
      "Epoch 28/120\n",
      "\u001B[1m229/229\u001B[0m \u001B[32m━━━━━━━━━━━━━━━━━━━━\u001B[0m\u001B[37m\u001B[0m \u001B[1m1s\u001B[0m 3ms/step - accuracy: 0.8306 - loss: 0.4691 - val_accuracy: 0.9247 - val_loss: 0.2362\n",
      "Epoch 29/120\n",
      "\u001B[1m229/229\u001B[0m \u001B[32m━━━━━━━━━━━━━━━━━━━━\u001B[0m\u001B[37m\u001B[0m \u001B[1m1s\u001B[0m 2ms/step - accuracy: 0.8327 - loss: 0.4679 - val_accuracy: 0.9233 - val_loss: 0.2349\n",
      "Epoch 30/120\n",
      "\u001B[1m229/229\u001B[0m \u001B[32m━━━━━━━━━━━━━━━━━━━━\u001B[0m\u001B[37m\u001B[0m \u001B[1m1s\u001B[0m 3ms/step - accuracy: 0.8329 - loss: 0.4658 - val_accuracy: 0.9280 - val_loss: 0.2263\n",
      "Epoch 31/120\n",
      "\u001B[1m229/229\u001B[0m \u001B[32m━━━━━━━━━━━━━━━━━━━━\u001B[0m\u001B[37m\u001B[0m \u001B[1m1s\u001B[0m 3ms/step - accuracy: 0.8349 - loss: 0.4596 - val_accuracy: 0.9253 - val_loss: 0.2276\n",
      "Epoch 32/120\n",
      "\u001B[1m229/229\u001B[0m \u001B[32m━━━━━━━━━━━━━━━━━━━━\u001B[0m\u001B[37m\u001B[0m \u001B[1m1s\u001B[0m 3ms/step - accuracy: 0.8363 - loss: 0.4489 - val_accuracy: 0.9253 - val_loss: 0.2278\n",
      "Epoch 33/120\n",
      "\u001B[1m229/229\u001B[0m \u001B[32m━━━━━━━━━━━━━━━━━━━━\u001B[0m\u001B[37m\u001B[0m \u001B[1m1s\u001B[0m 3ms/step - accuracy: 0.8414 - loss: 0.4476 - val_accuracy: 0.9253 - val_loss: 0.2305\n",
      "Epoch 34/120\n",
      "\u001B[1m229/229\u001B[0m \u001B[32m━━━━━━━━━━━━━━━━━━━━\u001B[0m\u001B[37m\u001B[0m \u001B[1m1s\u001B[0m 3ms/step - accuracy: 0.8378 - loss: 0.4548 - val_accuracy: 0.9220 - val_loss: 0.2364\n",
      "Epoch 35/120\n",
      "\u001B[1m229/229\u001B[0m \u001B[32m━━━━━━━━━━━━━━━━━━━━\u001B[0m\u001B[37m\u001B[0m \u001B[1m1s\u001B[0m 3ms/step - accuracy: 0.8418 - loss: 0.4456 - val_accuracy: 0.9240 - val_loss: 0.2329\n",
      "Epoch 36/120\n",
      "\u001B[1m229/229\u001B[0m \u001B[32m━━━━━━━━━━━━━━━━━━━━\u001B[0m\u001B[37m\u001B[0m \u001B[1m1s\u001B[0m 3ms/step - accuracy: 0.8394 - loss: 0.4428 - val_accuracy: 0.9320 - val_loss: 0.2092\n",
      "Epoch 37/120\n",
      "\u001B[1m229/229\u001B[0m \u001B[32m━━━━━━━━━━━━━━━━━━━━\u001B[0m\u001B[37m\u001B[0m \u001B[1m1s\u001B[0m 2ms/step - accuracy: 0.8429 - loss: 0.4398 - val_accuracy: 0.9240 - val_loss: 0.2289\n",
      "Epoch 38/120\n",
      "\u001B[1m229/229\u001B[0m \u001B[32m━━━━━━━━━━━━━━━━━━━━\u001B[0m\u001B[37m\u001B[0m \u001B[1m1s\u001B[0m 3ms/step - accuracy: 0.8474 - loss: 0.4333 - val_accuracy: 0.9313 - val_loss: 0.2109\n",
      "Epoch 39/120\n",
      "\u001B[1m229/229\u001B[0m \u001B[32m━━━━━━━━━━━━━━━━━━━━\u001B[0m\u001B[37m\u001B[0m \u001B[1m1s\u001B[0m 3ms/step - accuracy: 0.8440 - loss: 0.4377 - val_accuracy: 0.9227 - val_loss: 0.2276\n",
      "Epoch 40/120\n",
      "\u001B[1m229/229\u001B[0m \u001B[32m━━━━━━━━━━━━━━━━━━━━\u001B[0m\u001B[37m\u001B[0m \u001B[1m1s\u001B[0m 3ms/step - accuracy: 0.8457 - loss: 0.4336 - val_accuracy: 0.9247 - val_loss: 0.2236\n",
      "Epoch 41/120\n",
      "\u001B[1m229/229\u001B[0m \u001B[32m━━━━━━━━━━━━━━━━━━━━\u001B[0m\u001B[37m\u001B[0m \u001B[1m1s\u001B[0m 2ms/step - accuracy: 0.8447 - loss: 0.4327 - val_accuracy: 0.9333 - val_loss: 0.2077\n",
      "Epoch 42/120\n",
      "\u001B[1m229/229\u001B[0m \u001B[32m━━━━━━━━━━━━━━━━━━━━\u001B[0m\u001B[37m\u001B[0m \u001B[1m1s\u001B[0m 3ms/step - accuracy: 0.8494 - loss: 0.4286 - val_accuracy: 0.9287 - val_loss: 0.2150\n",
      "Epoch 43/120\n",
      "\u001B[1m229/229\u001B[0m \u001B[32m━━━━━━━━━━━━━━━━━━━━\u001B[0m\u001B[37m\u001B[0m \u001B[1m1s\u001B[0m 3ms/step - accuracy: 0.8462 - loss: 0.4289 - val_accuracy: 0.9247 - val_loss: 0.2280\n",
      "Epoch 44/120\n",
      "\u001B[1m229/229\u001B[0m \u001B[32m━━━━━━━━━━━━━━━━━━━━\u001B[0m\u001B[37m\u001B[0m \u001B[1m1s\u001B[0m 3ms/step - accuracy: 0.8488 - loss: 0.4230 - val_accuracy: 0.9247 - val_loss: 0.2265\n",
      "Epoch 45/120\n",
      "\u001B[1m229/229\u001B[0m \u001B[32m━━━━━━━━━━━━━━━━━━━━\u001B[0m\u001B[37m\u001B[0m \u001B[1m1s\u001B[0m 2ms/step - accuracy: 0.8509 - loss: 0.4223 - val_accuracy: 0.9280 - val_loss: 0.2208\n",
      "Epoch 46/120\n",
      "\u001B[1m229/229\u001B[0m \u001B[32m━━━━━━━━━━━━━━━━━━━━\u001B[0m\u001B[37m\u001B[0m \u001B[1m1s\u001B[0m 2ms/step - accuracy: 0.8500 - loss: 0.4182 - val_accuracy: 0.9207 - val_loss: 0.2416\n",
      "Epoch 47/120\n",
      "\u001B[1m229/229\u001B[0m \u001B[32m━━━━━━━━━━━━━━━━━━━━\u001B[0m\u001B[37m\u001B[0m \u001B[1m1s\u001B[0m 2ms/step - accuracy: 0.8510 - loss: 0.4133 - val_accuracy: 0.9240 - val_loss: 0.2306\n",
      "Epoch 48/120\n",
      "\u001B[1m229/229\u001B[0m \u001B[32m━━━━━━━━━━━━━━━━━━━━\u001B[0m\u001B[37m\u001B[0m \u001B[1m1s\u001B[0m 2ms/step - accuracy: 0.8517 - loss: 0.4167 - val_accuracy: 0.9247 - val_loss: 0.2214\n",
      "Epoch 49/120\n",
      "\u001B[1m229/229\u001B[0m \u001B[32m━━━━━━━━━━━━━━━━━━━━\u001B[0m\u001B[37m\u001B[0m \u001B[1m1s\u001B[0m 2ms/step - accuracy: 0.8509 - loss: 0.4150 - val_accuracy: 0.9233 - val_loss: 0.2246\n",
      "Epoch 50/120\n",
      "\u001B[1m229/229\u001B[0m \u001B[32m━━━━━━━━━━━━━━━━━━━━\u001B[0m\u001B[37m\u001B[0m \u001B[1m1s\u001B[0m 2ms/step - accuracy: 0.8520 - loss: 0.4149 - val_accuracy: 0.9247 - val_loss: 0.2252\n",
      "Epoch 51/120\n",
      "\u001B[1m229/229\u001B[0m \u001B[32m━━━━━━━━━━━━━━━━━━━━\u001B[0m\u001B[37m\u001B[0m \u001B[1m1s\u001B[0m 2ms/step - accuracy: 0.8540 - loss: 0.4116 - val_accuracy: 0.9260 - val_loss: 0.2220\n",
      "Epoch 52/120\n",
      "\u001B[1m229/229\u001B[0m \u001B[32m━━━━━━━━━━━━━━━━━━━━\u001B[0m\u001B[37m\u001B[0m \u001B[1m1s\u001B[0m 2ms/step - accuracy: 0.8549 - loss: 0.4070 - val_accuracy: 0.9327 - val_loss: 0.2086\n",
      "Epoch 53/120\n",
      "\u001B[1m229/229\u001B[0m \u001B[32m━━━━━━━━━━━━━━━━━━━━\u001B[0m\u001B[37m\u001B[0m \u001B[1m1s\u001B[0m 2ms/step - accuracy: 0.8560 - loss: 0.4045 - val_accuracy: 0.9300 - val_loss: 0.2114\n",
      "Epoch 54/120\n",
      "\u001B[1m229/229\u001B[0m \u001B[32m━━━━━━━━━━━━━━━━━━━━\u001B[0m\u001B[37m\u001B[0m \u001B[1m1s\u001B[0m 2ms/step - accuracy: 0.8556 - loss: 0.4029 - val_accuracy: 0.9373 - val_loss: 0.1988\n",
      "Epoch 55/120\n",
      "\u001B[1m229/229\u001B[0m \u001B[32m━━━━━━━━━━━━━━━━━━━━\u001B[0m\u001B[37m\u001B[0m \u001B[1m1s\u001B[0m 2ms/step - accuracy: 0.8562 - loss: 0.4031 - val_accuracy: 0.9280 - val_loss: 0.2194\n",
      "Epoch 56/120\n",
      "\u001B[1m229/229\u001B[0m \u001B[32m━━━━━━━━━━━━━━━━━━━━\u001B[0m\u001B[37m\u001B[0m \u001B[1m1s\u001B[0m 2ms/step - accuracy: 0.8559 - loss: 0.3976 - val_accuracy: 0.9340 - val_loss: 0.2021\n",
      "Epoch 57/120\n",
      "\u001B[1m229/229\u001B[0m \u001B[32m━━━━━━━━━━━━━━━━━━━━\u001B[0m\u001B[37m\u001B[0m \u001B[1m1s\u001B[0m 3ms/step - accuracy: 0.8570 - loss: 0.4000 - val_accuracy: 0.9380 - val_loss: 0.1940\n",
      "Epoch 58/120\n",
      "\u001B[1m229/229\u001B[0m \u001B[32m━━━━━━━━━━━━━━━━━━━━\u001B[0m\u001B[37m\u001B[0m \u001B[1m1s\u001B[0m 2ms/step - accuracy: 0.8571 - loss: 0.4004 - val_accuracy: 0.9353 - val_loss: 0.2042\n",
      "Epoch 59/120\n",
      "\u001B[1m229/229\u001B[0m \u001B[32m━━━━━━━━━━━━━━━━━━━━\u001B[0m\u001B[37m\u001B[0m \u001B[1m1s\u001B[0m 3ms/step - accuracy: 0.8584 - loss: 0.3989 - val_accuracy: 0.9300 - val_loss: 0.2225\n",
      "Epoch 60/120\n",
      "\u001B[1m229/229\u001B[0m \u001B[32m━━━━━━━━━━━━━━━━━━━━\u001B[0m\u001B[37m\u001B[0m \u001B[1m1s\u001B[0m 3ms/step - accuracy: 0.8605 - loss: 0.3964 - val_accuracy: 0.9313 - val_loss: 0.2195\n",
      "Epoch 61/120\n",
      "\u001B[1m229/229\u001B[0m \u001B[32m━━━━━━━━━━━━━━━━━━━━\u001B[0m\u001B[37m\u001B[0m \u001B[1m1s\u001B[0m 3ms/step - accuracy: 0.8599 - loss: 0.3924 - val_accuracy: 0.9360 - val_loss: 0.2026\n",
      "Epoch 62/120\n",
      "\u001B[1m229/229\u001B[0m \u001B[32m━━━━━━━━━━━━━━━━━━━━\u001B[0m\u001B[37m\u001B[0m \u001B[1m1s\u001B[0m 3ms/step - accuracy: 0.8614 - loss: 0.3900 - val_accuracy: 0.9327 - val_loss: 0.2150\n",
      "Epoch 63/120\n",
      "\u001B[1m229/229\u001B[0m \u001B[32m━━━━━━━━━━━━━━━━━━━━\u001B[0m\u001B[37m\u001B[0m \u001B[1m1s\u001B[0m 3ms/step - accuracy: 0.8615 - loss: 0.3890 - val_accuracy: 0.9253 - val_loss: 0.2317\n",
      "Epoch 64/120\n",
      "\u001B[1m229/229\u001B[0m \u001B[32m━━━━━━━━━━━━━━━━━━━━\u001B[0m\u001B[37m\u001B[0m \u001B[1m1s\u001B[0m 3ms/step - accuracy: 0.8601 - loss: 0.3890 - val_accuracy: 0.9293 - val_loss: 0.2226\n",
      "Epoch 65/120\n",
      "\u001B[1m229/229\u001B[0m \u001B[32m━━━━━━━━━━━━━━━━━━━━\u001B[0m\u001B[37m\u001B[0m \u001B[1m1s\u001B[0m 3ms/step - accuracy: 0.8621 - loss: 0.3814 - val_accuracy: 0.9247 - val_loss: 0.2321\n",
      "Epoch 66/120\n",
      "\u001B[1m229/229\u001B[0m \u001B[32m━━━━━━━━━━━━━━━━━━━━\u001B[0m\u001B[37m\u001B[0m \u001B[1m1s\u001B[0m 2ms/step - accuracy: 0.8641 - loss: 0.3833 - val_accuracy: 0.9373 - val_loss: 0.1930\n",
      "Epoch 67/120\n",
      "\u001B[1m229/229\u001B[0m \u001B[32m━━━━━━━━━━━━━━━━━━━━\u001B[0m\u001B[37m\u001B[0m \u001B[1m1s\u001B[0m 2ms/step - accuracy: 0.8644 - loss: 0.3785 - val_accuracy: 0.9227 - val_loss: 0.2409\n",
      "Epoch 68/120\n",
      "\u001B[1m229/229\u001B[0m \u001B[32m━━━━━━━━━━━━━━━━━━━━\u001B[0m\u001B[37m\u001B[0m \u001B[1m1s\u001B[0m 2ms/step - accuracy: 0.8621 - loss: 0.3844 - val_accuracy: 0.9320 - val_loss: 0.2162\n",
      "Epoch 69/120\n",
      "\u001B[1m229/229\u001B[0m \u001B[32m━━━━━━━━━━━━━━━━━━━━\u001B[0m\u001B[37m\u001B[0m \u001B[1m1s\u001B[0m 2ms/step - accuracy: 0.8645 - loss: 0.3795 - val_accuracy: 0.9347 - val_loss: 0.2111\n",
      "Epoch 70/120\n",
      "\u001B[1m229/229\u001B[0m \u001B[32m━━━━━━━━━━━━━━━━━━━━\u001B[0m\u001B[37m\u001B[0m \u001B[1m1s\u001B[0m 3ms/step - accuracy: 0.8659 - loss: 0.3786 - val_accuracy: 0.9340 - val_loss: 0.2035\n",
      "Epoch 71/120\n",
      "\u001B[1m229/229\u001B[0m \u001B[32m━━━━━━━━━━━━━━━━━━━━\u001B[0m\u001B[37m\u001B[0m \u001B[1m1s\u001B[0m 3ms/step - accuracy: 0.8651 - loss: 0.3830 - val_accuracy: 0.9340 - val_loss: 0.2115\n",
      "Epoch 72/120\n",
      "\u001B[1m229/229\u001B[0m \u001B[32m━━━━━━━━━━━━━━━━━━━━\u001B[0m\u001B[37m\u001B[0m \u001B[1m1s\u001B[0m 3ms/step - accuracy: 0.8653 - loss: 0.3791 - val_accuracy: 0.9340 - val_loss: 0.2138\n",
      "Epoch 73/120\n",
      "\u001B[1m229/229\u001B[0m \u001B[32m━━━━━━━━━━━━━━━━━━━━\u001B[0m\u001B[37m\u001B[0m \u001B[1m1s\u001B[0m 2ms/step - accuracy: 0.8620 - loss: 0.3799 - val_accuracy: 0.9300 - val_loss: 0.2253\n",
      "Epoch 74/120\n",
      "\u001B[1m229/229\u001B[0m \u001B[32m━━━━━━━━━━━━━━━━━━━━\u001B[0m\u001B[37m\u001B[0m \u001B[1m1s\u001B[0m 3ms/step - accuracy: 0.8673 - loss: 0.3732 - val_accuracy: 0.9320 - val_loss: 0.2260\n",
      "Epoch 75/120\n",
      "\u001B[1m229/229\u001B[0m \u001B[32m━━━━━━━━━━━━━━━━━━━━\u001B[0m\u001B[37m\u001B[0m \u001B[1m1s\u001B[0m 3ms/step - accuracy: 0.8669 - loss: 0.3734 - val_accuracy: 0.9260 - val_loss: 0.2365\n",
      "Epoch 76/120\n",
      "\u001B[1m229/229\u001B[0m \u001B[32m━━━━━━━━━━━━━━━━━━━━\u001B[0m\u001B[37m\u001B[0m \u001B[1m1s\u001B[0m 3ms/step - accuracy: 0.8658 - loss: 0.3731 - val_accuracy: 0.9340 - val_loss: 0.2060\n",
      "Epoch 77/120\n",
      "\u001B[1m229/229\u001B[0m \u001B[32m━━━━━━━━━━━━━━━━━━━━\u001B[0m\u001B[37m\u001B[0m \u001B[1m1s\u001B[0m 2ms/step - accuracy: 0.8689 - loss: 0.3686 - val_accuracy: 0.9307 - val_loss: 0.2281\n",
      "Epoch 78/120\n",
      "\u001B[1m229/229\u001B[0m \u001B[32m━━━━━━━━━━━━━━━━━━━━\u001B[0m\u001B[37m\u001B[0m \u001B[1m1s\u001B[0m 3ms/step - accuracy: 0.8692 - loss: 0.3669 - val_accuracy: 0.9240 - val_loss: 0.2412\n",
      "Epoch 79/120\n",
      "\u001B[1m229/229\u001B[0m \u001B[32m━━━━━━━━━━━━━━━━━━━━\u001B[0m\u001B[37m\u001B[0m \u001B[1m1s\u001B[0m 3ms/step - accuracy: 0.8691 - loss: 0.3691 - val_accuracy: 0.9340 - val_loss: 0.2144\n",
      "Epoch 80/120\n",
      "\u001B[1m229/229\u001B[0m \u001B[32m━━━━━━━━━━━━━━━━━━━━\u001B[0m\u001B[37m\u001B[0m \u001B[1m1s\u001B[0m 3ms/step - accuracy: 0.8687 - loss: 0.3681 - val_accuracy: 0.9320 - val_loss: 0.2251\n",
      "Epoch 81/120\n",
      "\u001B[1m229/229\u001B[0m \u001B[32m━━━━━━━━━━━━━━━━━━━━\u001B[0m\u001B[37m\u001B[0m \u001B[1m1s\u001B[0m 3ms/step - accuracy: 0.8720 - loss: 0.3624 - val_accuracy: 0.9327 - val_loss: 0.2261\n",
      "Epoch 82/120\n",
      "\u001B[1m229/229\u001B[0m \u001B[32m━━━━━━━━━━━━━━━━━━━━\u001B[0m\u001B[37m\u001B[0m \u001B[1m1s\u001B[0m 3ms/step - accuracy: 0.8699 - loss: 0.3618 - val_accuracy: 0.9260 - val_loss: 0.2353\n",
      "Epoch 83/120\n",
      "\u001B[1m229/229\u001B[0m \u001B[32m━━━━━━━━━━━━━━━━━━━━\u001B[0m\u001B[37m\u001B[0m \u001B[1m1s\u001B[0m 3ms/step - accuracy: 0.8667 - loss: 0.3682 - val_accuracy: 0.9340 - val_loss: 0.2089\n",
      "Epoch 84/120\n",
      "\u001B[1m229/229\u001B[0m \u001B[32m━━━━━━━━━━━━━━━━━━━━\u001B[0m\u001B[37m\u001B[0m \u001B[1m1s\u001B[0m 3ms/step - accuracy: 0.8688 - loss: 0.3683 - val_accuracy: 0.9287 - val_loss: 0.2349\n",
      "Epoch 85/120\n",
      "\u001B[1m229/229\u001B[0m \u001B[32m━━━━━━━━━━━━━━━━━━━━\u001B[0m\u001B[37m\u001B[0m \u001B[1m1s\u001B[0m 3ms/step - accuracy: 0.8691 - loss: 0.3610 - val_accuracy: 0.9280 - val_loss: 0.2328\n",
      "Epoch 86/120\n",
      "\u001B[1m229/229\u001B[0m \u001B[32m━━━━━━━━━━━━━━━━━━━━\u001B[0m\u001B[37m\u001B[0m \u001B[1m1s\u001B[0m 3ms/step - accuracy: 0.8707 - loss: 0.3603 - val_accuracy: 0.9300 - val_loss: 0.2314\n",
      "Epoch 87/120\n",
      "\u001B[1m229/229\u001B[0m \u001B[32m━━━━━━━━━━━━━━━━━━━━\u001B[0m\u001B[37m\u001B[0m \u001B[1m1s\u001B[0m 3ms/step - accuracy: 0.8692 - loss: 0.3642 - val_accuracy: 0.9320 - val_loss: 0.2225\n",
      "Epoch 88/120\n",
      "\u001B[1m229/229\u001B[0m \u001B[32m━━━━━━━━━━━━━━━━━━━━\u001B[0m\u001B[37m\u001B[0m \u001B[1m1s\u001B[0m 2ms/step - accuracy: 0.8714 - loss: 0.3608 - val_accuracy: 0.9280 - val_loss: 0.2292\n",
      "Epoch 89/120\n",
      "\u001B[1m229/229\u001B[0m \u001B[32m━━━━━━━━━━━━━━━━━━━━\u001B[0m\u001B[37m\u001B[0m \u001B[1m1s\u001B[0m 3ms/step - accuracy: 0.8721 - loss: 0.3616 - val_accuracy: 0.9327 - val_loss: 0.2221\n",
      "Epoch 90/120\n",
      "\u001B[1m229/229\u001B[0m \u001B[32m━━━━━━━━━━━━━━━━━━━━\u001B[0m\u001B[37m\u001B[0m \u001B[1m1s\u001B[0m 2ms/step - accuracy: 0.8733 - loss: 0.3543 - val_accuracy: 0.9313 - val_loss: 0.2277\n",
      "Epoch 91/120\n",
      "\u001B[1m229/229\u001B[0m \u001B[32m━━━━━━━━━━━━━━━━━━━━\u001B[0m\u001B[37m\u001B[0m \u001B[1m1s\u001B[0m 2ms/step - accuracy: 0.8717 - loss: 0.3574 - val_accuracy: 0.9307 - val_loss: 0.2182\n",
      "Epoch 92/120\n",
      "\u001B[1m229/229\u001B[0m \u001B[32m━━━━━━━━━━━━━━━━━━━━\u001B[0m\u001B[37m\u001B[0m \u001B[1m1s\u001B[0m 2ms/step - accuracy: 0.8705 - loss: 0.3665 - val_accuracy: 0.9300 - val_loss: 0.2306\n",
      "Epoch 93/120\n",
      "\u001B[1m229/229\u001B[0m \u001B[32m━━━━━━━━━━━━━━━━━━━━\u001B[0m\u001B[37m\u001B[0m \u001B[1m1s\u001B[0m 3ms/step - accuracy: 0.8758 - loss: 0.3509 - val_accuracy: 0.9293 - val_loss: 0.2261\n",
      "Epoch 94/120\n",
      "\u001B[1m229/229\u001B[0m \u001B[32m━━━━━━━━━━━━━━━━━━━━\u001B[0m\u001B[37m\u001B[0m \u001B[1m1s\u001B[0m 3ms/step - accuracy: 0.8728 - loss: 0.3582 - val_accuracy: 0.9267 - val_loss: 0.2436\n",
      "Epoch 95/120\n",
      "\u001B[1m229/229\u001B[0m \u001B[32m━━━━━━━━━━━━━━━━━━━━\u001B[0m\u001B[37m\u001B[0m \u001B[1m1s\u001B[0m 3ms/step - accuracy: 0.8728 - loss: 0.3587 - val_accuracy: 0.9360 - val_loss: 0.2071\n",
      "Epoch 96/120\n",
      "\u001B[1m229/229\u001B[0m \u001B[32m━━━━━━━━━━━━━━━━━━━━\u001B[0m\u001B[37m\u001B[0m \u001B[1m1s\u001B[0m 2ms/step - accuracy: 0.8776 - loss: 0.3426 - val_accuracy: 0.9273 - val_loss: 0.2369\n",
      "Epoch 97/120\n",
      "\u001B[1m229/229\u001B[0m \u001B[32m━━━━━━━━━━━━━━━━━━━━\u001B[0m\u001B[37m\u001B[0m \u001B[1m1s\u001B[0m 2ms/step - accuracy: 0.8741 - loss: 0.3523 - val_accuracy: 0.9313 - val_loss: 0.2240\n",
      "Epoch 98/120\n",
      "\u001B[1m229/229\u001B[0m \u001B[32m━━━━━━━━━━━━━━━━━━━━\u001B[0m\u001B[37m\u001B[0m \u001B[1m1s\u001B[0m 2ms/step - accuracy: 0.8760 - loss: 0.3496 - val_accuracy: 0.9320 - val_loss: 0.2198\n",
      "Epoch 99/120\n",
      "\u001B[1m229/229\u001B[0m \u001B[32m━━━━━━━━━━━━━━━━━━━━\u001B[0m\u001B[37m\u001B[0m \u001B[1m1s\u001B[0m 2ms/step - accuracy: 0.8766 - loss: 0.3454 - val_accuracy: 0.9307 - val_loss: 0.2305\n",
      "Epoch 100/120\n",
      "\u001B[1m229/229\u001B[0m \u001B[32m━━━━━━━━━━━━━━━━━━━━\u001B[0m\u001B[37m\u001B[0m \u001B[1m1s\u001B[0m 2ms/step - accuracy: 0.8741 - loss: 0.3517 - val_accuracy: 0.9340 - val_loss: 0.2185\n",
      "Epoch 101/120\n",
      "\u001B[1m229/229\u001B[0m \u001B[32m━━━━━━━━━━━━━━━━━━━━\u001B[0m\u001B[37m\u001B[0m \u001B[1m1s\u001B[0m 2ms/step - accuracy: 0.8758 - loss: 0.3483 - val_accuracy: 0.9380 - val_loss: 0.1979\n",
      "Epoch 102/120\n",
      "\u001B[1m229/229\u001B[0m \u001B[32m━━━━━━━━━━━━━━━━━━━━\u001B[0m\u001B[37m\u001B[0m \u001B[1m1s\u001B[0m 2ms/step - accuracy: 0.8780 - loss: 0.3465 - val_accuracy: 0.9273 - val_loss: 0.2368\n",
      "Epoch 103/120\n",
      "\u001B[1m229/229\u001B[0m \u001B[32m━━━━━━━━━━━━━━━━━━━━\u001B[0m\u001B[37m\u001B[0m \u001B[1m1s\u001B[0m 2ms/step - accuracy: 0.8773 - loss: 0.3450 - val_accuracy: 0.9347 - val_loss: 0.2139\n",
      "Epoch 104/120\n",
      "\u001B[1m229/229\u001B[0m \u001B[32m━━━━━━━━━━━━━━━━━━━━\u001B[0m\u001B[37m\u001B[0m \u001B[1m1s\u001B[0m 2ms/step - accuracy: 0.8778 - loss: 0.3439 - val_accuracy: 0.9267 - val_loss: 0.2513\n",
      "Epoch 105/120\n",
      "\u001B[1m229/229\u001B[0m \u001B[32m━━━━━━━━━━━━━━━━━━━━\u001B[0m\u001B[37m\u001B[0m \u001B[1m1s\u001B[0m 2ms/step - accuracy: 0.8773 - loss: 0.3455 - val_accuracy: 0.9287 - val_loss: 0.2360\n",
      "Epoch 106/120\n",
      "\u001B[1m229/229\u001B[0m \u001B[32m━━━━━━━━━━━━━━━━━━━━\u001B[0m\u001B[37m\u001B[0m \u001B[1m1s\u001B[0m 2ms/step - accuracy: 0.8766 - loss: 0.3467 - val_accuracy: 0.9273 - val_loss: 0.2420\n",
      "Epoch 107/120\n",
      "\u001B[1m229/229\u001B[0m \u001B[32m━━━━━━━━━━━━━━━━━━━━\u001B[0m\u001B[37m\u001B[0m \u001B[1m1s\u001B[0m 2ms/step - accuracy: 0.8778 - loss: 0.3449 - val_accuracy: 0.9293 - val_loss: 0.2332\n",
      "Epoch 108/120\n",
      "\u001B[1m229/229\u001B[0m \u001B[32m━━━━━━━━━━━━━━━━━━━━\u001B[0m\u001B[37m\u001B[0m \u001B[1m1s\u001B[0m 2ms/step - accuracy: 0.8769 - loss: 0.3427 - val_accuracy: 0.9193 - val_loss: 0.2704\n",
      "Epoch 109/120\n",
      "\u001B[1m229/229\u001B[0m \u001B[32m━━━━━━━━━━━━━━━━━━━━\u001B[0m\u001B[37m\u001B[0m \u001B[1m1s\u001B[0m 2ms/step - accuracy: 0.8798 - loss: 0.3407 - val_accuracy: 0.9247 - val_loss: 0.2589\n",
      "Epoch 110/120\n",
      "\u001B[1m229/229\u001B[0m \u001B[32m━━━━━━━━━━━━━━━━━━━━\u001B[0m\u001B[37m\u001B[0m \u001B[1m1s\u001B[0m 3ms/step - accuracy: 0.8795 - loss: 0.3407 - val_accuracy: 0.9333 - val_loss: 0.2284\n",
      "Epoch 111/120\n",
      "\u001B[1m229/229\u001B[0m \u001B[32m━━━━━━━━━━━━━━━━━━━━\u001B[0m\u001B[37m\u001B[0m \u001B[1m1s\u001B[0m 3ms/step - accuracy: 0.8785 - loss: 0.3408 - val_accuracy: 0.9287 - val_loss: 0.2452\n",
      "Epoch 112/120\n",
      "\u001B[1m229/229\u001B[0m \u001B[32m━━━━━━━━━━━━━━━━━━━━\u001B[0m\u001B[37m\u001B[0m \u001B[1m1s\u001B[0m 3ms/step - accuracy: 0.8796 - loss: 0.3362 - val_accuracy: 0.9360 - val_loss: 0.2158\n",
      "Epoch 113/120\n",
      "\u001B[1m229/229\u001B[0m \u001B[32m━━━━━━━━━━━━━━━━━━━━\u001B[0m\u001B[37m\u001B[0m \u001B[1m1s\u001B[0m 3ms/step - accuracy: 0.8766 - loss: 0.3464 - val_accuracy: 0.9300 - val_loss: 0.2405\n",
      "Epoch 114/120\n",
      "\u001B[1m229/229\u001B[0m \u001B[32m━━━━━━━━━━━━━━━━━━━━\u001B[0m\u001B[37m\u001B[0m \u001B[1m1s\u001B[0m 3ms/step - accuracy: 0.8805 - loss: 0.3368 - val_accuracy: 0.9240 - val_loss: 0.2590\n",
      "Epoch 115/120\n",
      "\u001B[1m229/229\u001B[0m \u001B[32m━━━━━━━━━━━━━━━━━━━━\u001B[0m\u001B[37m\u001B[0m \u001B[1m1s\u001B[0m 3ms/step - accuracy: 0.8814 - loss: 0.3349 - val_accuracy: 0.9280 - val_loss: 0.2450\n",
      "Epoch 116/120\n",
      "\u001B[1m229/229\u001B[0m \u001B[32m━━━━━━━━━━━━━━━━━━━━\u001B[0m\u001B[37m\u001B[0m \u001B[1m1s\u001B[0m 3ms/step - accuracy: 0.8795 - loss: 0.3375 - val_accuracy: 0.9327 - val_loss: 0.2294\n",
      "Epoch 117/120\n",
      "\u001B[1m229/229\u001B[0m \u001B[32m━━━━━━━━━━━━━━━━━━━━\u001B[0m\u001B[37m\u001B[0m \u001B[1m1s\u001B[0m 3ms/step - accuracy: 0.8812 - loss: 0.3313 - val_accuracy: 0.9293 - val_loss: 0.2422\n",
      "Epoch 118/120\n",
      "\u001B[1m229/229\u001B[0m \u001B[32m━━━━━━━━━━━━━━━━━━━━\u001B[0m\u001B[37m\u001B[0m \u001B[1m1s\u001B[0m 2ms/step - accuracy: 0.8818 - loss: 0.3339 - val_accuracy: 0.9287 - val_loss: 0.2396\n",
      "Epoch 119/120\n",
      "\u001B[1m229/229\u001B[0m \u001B[32m━━━━━━━━━━━━━━━━━━━━\u001B[0m\u001B[37m\u001B[0m \u001B[1m1s\u001B[0m 2ms/step - accuracy: 0.8812 - loss: 0.3340 - val_accuracy: 0.9313 - val_loss: 0.2371\n",
      "Epoch 120/120\n",
      "\u001B[1m229/229\u001B[0m \u001B[32m━━━━━━━━━━━━━━━━━━━━\u001B[0m\u001B[37m\u001B[0m \u001B[1m1s\u001B[0m 2ms/step - accuracy: 0.8816 - loss: 0.3300 - val_accuracy: 0.9320 - val_loss: 0.2314\n"
     ]
    }
   ],
   "execution_count": 34
  },
  {
   "cell_type": "markdown",
   "metadata": {},
   "source": [
    "Recall that the dictionary `history` has two entries: the loss and the accuracy achieved using the training set."
   ]
  },
  {
   "cell_type": "code",
   "metadata": {
    "ExecuteTime": {
     "end_time": "2024-09-09T18:34:43.862070Z",
     "start_time": "2024-09-09T18:34:43.836991Z"
    }
   },
   "source": [
    "history_dict = history.history\n",
    "history_dict.keys()"
   ],
   "outputs": [
    {
     "data": {
      "text/plain": [
       "dict_keys(['accuracy', 'loss', 'val_accuracy', 'val_loss'])"
      ]
     },
     "execution_count": 35,
     "metadata": {},
     "output_type": "execute_result"
    }
   ],
   "execution_count": 35
  },
  {
   "cell_type": "markdown",
   "metadata": {},
   "source": [
    "## Plot the results\n",
    "\n",
    "As you might expect, we'll use our `matplotlib` for graphing. Use the data stored in the `history_dict` above to plot the loss vs epochs and the accuracy vs epochs. "
   ]
  },
  {
   "metadata": {
    "ExecuteTime": {
     "end_time": "2024-09-09T18:37:55.020926Z",
     "start_time": "2024-09-09T18:37:55.005272Z"
    }
   },
   "cell_type": "code",
   "source": "plt.style.use(\"seaborn-v0_8\")",
   "outputs": [],
   "execution_count": 43
  },
  {
   "cell_type": "code",
   "metadata": {
    "ExecuteTime": {
     "end_time": "2024-09-09T18:38:07.095061Z",
     "start_time": "2024-09-09T18:38:06.994076Z"
    }
   },
   "source": [
    "# Plot the loss vs the number of epoch\n",
    "loss_values = history_dict['loss']\n",
    "val_loss_values = history_dict['val_loss']\n",
    "epochs = range(1, 121)\n",
    "plt.plot(epochs, loss_values, label='Training loss')\n",
    "plt.plot(epochs, val_loss_values, label='Validation loss')\n",
    "plt.title('Training and validation loss')\n",
    "plt.xlabel('Epochs')\n",
    "plt.legend()\n",
    "plt.show()"
   ],
   "outputs": [
    {
     "data": {
      "text/plain": [
       "<Figure size 800x550 with 1 Axes>"
      ],
      "image/png": "[encoded data removed]"
     },
     "metadata": {},
     "output_type": "display_data"
    }
   ],
   "execution_count": 45
  },
  {
   "cell_type": "code",
   "metadata": {
    "ExecuteTime": {
     "end_time": "2024-09-09T18:38:51.007620Z",
     "start_time": "2024-09-09T18:38:50.849453Z"
    }
   },
   "source": [
    "# Plot the training accuracy vs the number of epochs\n",
    "plt.plot(epochs, history_dict['accuracy'], label='Training accuracy')\n",
    "plt.plot(epochs, history_dict['val_accuracy'], label='Validation accuracy')\n",
    "plt.title('Training and validation accuracy')\n",
    "plt.xlabel('Epochs')\n",
    "plt.legend()\n",
    "plt.show()"
   ],
   "outputs": [
    {
     "data": {
      "text/plain": [
       "<Figure size 800x550 with 1 Axes>"
      ],
      "image/png": "[encoded data removed]"
     },
     "metadata": {},
     "output_type": "display_data"
    }
   ],
   "execution_count": 46
  },
  {
   "cell_type": "markdown",
   "metadata": {},
   "source": [
    "It seems like we could just keep on going and accuracy would go up!"
   ]
  },
  {
   "cell_type": "markdown",
   "metadata": {},
   "source": [
    "## Make predictions\n",
    "\n",
    "Finally, it's time to make predictions. Use the relevant method discussed in the previous lesson to output (probability) predictions for the test set."
   ]
  },
  {
   "cell_type": "code",
   "metadata": {
    "ExecuteTime": {
     "end_time": "2024-09-09T18:40:02.369305Z",
     "start_time": "2024-09-09T18:40:02.175813Z"
    }
   },
   "source": [
    "# Output (probability) predictions for the test set \n",
    "y_hat_test = model.predict(test)"
   ],
   "outputs": [
    {
     "name": "stdout",
     "output_type": "stream",
     "text": [
      "\u001B[1m47/47\u001B[0m \u001B[32m━━━━━━━━━━━━━━━━━━━━\u001B[0m\u001B[37m\u001B[0m \u001B[1m0s\u001B[0m 1ms/step \n"
     ]
    }
   ],
   "execution_count": 47
  },
  {
   "metadata": {},
   "cell_type": "code",
   "outputs": [],
   "execution_count": null,
   "source": ""
  },
  {
   "cell_type": "markdown",
   "metadata": {},
   "source": [
    "## Evaluate Performance\n",
    "\n",
    "Finally, print the loss and accuracy for both the train and test sets of the final trained model."
   ]
  },
  {
   "cell_type": "code",
   "metadata": {
    "ExecuteTime": {
     "end_time": "2024-09-09T18:57:49.366357Z",
     "start_time": "2024-09-09T18:57:49.350721Z"
    }
   },
   "source": [
    "# Print the loss and accuracy for the training set \n",
    "results_train = f\"accuracy: {history_dict['accuracy'][-1]} \\nloss: {history_dict['loss'][-1]}\"\n",
    "print(results_train)"
   ],
   "outputs": [
    {
     "name": "stdout",
     "output_type": "stream",
     "text": [
      "accuracy: 0.8809401988983154 \n",
      "loss: 0.3342364728450775\n"
     ]
    }
   ],
   "execution_count": 51
  },
  {
   "cell_type": "code",
   "metadata": {
    "ExecuteTime": {
     "end_time": "2024-09-09T18:58:30.572612Z",
     "start_time": "2024-09-09T18:58:30.556989Z"
    }
   },
   "source": [
    "# Print the loss and accuracy for the test set \n",
    "results_test = f\"accuracy: {history_dict['val_accuracy'][-1]} \\nloss: {history_dict['val_loss'][-1]}\"\n",
    "print(results_test)"
   ],
   "outputs": [
    {
     "name": "stdout",
     "output_type": "stream",
     "text": [
      "accuracy: 0.9319999814033508 \n",
      "loss: 0.23140600323677063\n"
     ]
    }
   ],
   "execution_count": 54
  },
  {
   "cell_type": "markdown",
   "metadata": {},
   "source": [
    "We can see that the training set results are really good, and the test set results seem to be even better. In general, this type of result will be rare, as train set results are usually at least a bit better than test set results.\n",
    "\n",
    "## Summary \n",
    "\n",
    "Congratulations! In this lab, you built a neural network thanks to the tools provided by Keras! In upcoming lessons and labs we'll continue to investigate further ideas regarding how to tune and refine these models for increased accuracy and performance."
   ]
  }
 ],
 "metadata": {
  "kernelspec": {
   "display_name": "Python 3",
   "language": "python",
   "name": "python3"
  },
  "language_info": {
   "codemirror_mode": {
    "name": "ipython",
    "version": 3
   },
   "file_extension": ".py",
   "mimetype": "text/x-python",
   "name": "python",
   "nbconvert_exporter": "python",
   "pygments_lexer": "ipython3",
   "version": "3.6.9"
  },
  "toc": {
   "base_numbering": 1,
   "nav_menu": {},
   "number_sections": true,
   "sideBar": true,
   "skip_h1_title": false,
   "title_cell": "Table of Contents",
   "title_sidebar": "Contents",
   "toc_cell": false,
   "toc_position": {},
   "toc_section_display": true,
   "toc_window_display": false
  }
 },
 "nbformat": 4,
 "nbformat_minor": 2
}
